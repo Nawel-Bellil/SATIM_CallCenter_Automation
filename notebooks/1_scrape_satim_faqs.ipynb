{
 "cells": [
  {
   "cell_type": "code",
   "execution_count": 3,
   "id": "27b3b36e",
   "metadata": {},
   "outputs": [],
   "source": [
    "import sys\n",
    "import os\n",
    "sys.path.append(os.path.abspath('../src'))\n",
    "\n",
    "import pandas as pd\n",
    "import json\n",
    "import logging\n",
    "from datetime import datetime\n",
    "import matplotlib.pyplot as plt\n",
    "import seaborn as sns\n",
    "\n",
    "from utils.scraper import SATIMScraper, FAQItem\n",
    "from database import SessionLocal\n",
    "from models import FAQ\n",
    "from sqlalchemy import func\n"
   ]
  },
  {
   "cell_type": "code",
   "execution_count": 5,
   "id": "65ff3d2f",
   "metadata": {},
   "outputs": [
    {
     "name": "stdout",
     "output_type": "stream",
     "text": [
      "Setup complete!\n"
     ]
    }
   ],
   "source": [
    "\n",
    "# Setup logging\n",
    "logging.basicConfig(level=logging.INFO)\n",
    "logger = logging.getLogger(__name__)\n",
    "\n",
    "# Create data directories if they don't exist\n",
    "os.makedirs('../data/raw', exist_ok=True)\n",
    "os.makedirs('../data/processed', exist_ok=True)\n",
    "\n",
    "print(\"Setup complete!\")\n"
   ]
  },
  {
   "cell_type": "code",
   "execution_count": 6,
   "id": "606edf17",
   "metadata": {},
   "outputs": [
    {
     "name": "stdout",
     "output_type": "stream",
     "text": [
      "Scraper initialized for: https://www.satim.dz\n",
      "Request delay: 2.0 seconds\n"
     ]
    }
   ],
   "source": [
    "\n",
    "# Initialize the scraper\n",
    "scraper = SATIMScraper(\n",
    "    base_url=\"https://www.satim.dz\",\n",
    "    delay=2.0\n",
    ")\n",
    "\n",
    "print(f\"Scraper initialized for: {scraper.base_url}\")\n",
    "print(f\"Request delay: {scraper.delay} seconds\")\n"
   ]
  },
  {
   "cell_type": "code",
   "execution_count": 7,
   "id": "5442f367",
   "metadata": {},
   "outputs": [
    {
     "name": "stderr",
     "output_type": "stream",
     "text": [
      "ERROR:utils.scraper:Error scraping https://www.satim.dz/index.php/fr/: HTTPSConnectionPool(host='www.satim.dz', port=443): Read timed out. (read timeout=10)\n"
     ]
    }
   ],
   "source": [
    "\n",
    "# Test scraping the main page\n",
    "main_page_url = \"https://www.satim.dz/index.php/fr/\"\n",
    "soup = scraper.scrape_page(main_page_url)\n"
   ]
  },
  {
   "cell_type": "code",
   "execution_count": 8,
   "id": "ba6cbe7a",
   "metadata": {},
   "outputs": [
    {
     "name": "stderr",
     "output_type": "stream",
     "text": [
      "INFO:utils.scraper:Scraping https://www.satim.dz/index.php/fr/ (Accueil)\n"
     ]
    },
    {
     "name": "stdout",
     "output_type": "stream",
     "text": [
      "✗ Failed to scrape main page\n",
      "Starting full website scraping...\n"
     ]
    },
    {
     "name": "stderr",
     "output_type": "stream",
     "text": [
      "INFO:utils.scraper:Scraping linked page: https://www.satim.dz/index.php/fr/faq\n",
      "INFO:utils.scraper:Scraping linked page: https://www.satim.dz/index.php/fr/\n",
      "INFO:utils.scraper:Scraping linked page: https://www.satim.dz/index.php/fr/satim/nos-services/services-nationaux\n",
      "INFO:utils.scraper:Scraping linked page: https://www.satim.dz/index.php/fr/satim/nos-services/services-internationaux\n",
      "INFO:utils.scraper:Scraping linked page: https://www.satim.dz/index.php/fr/\n",
      "INFO:utils.scraper:Scraping linked page: https://www.satim.dz/index.php/fr/services-cib/carte-cib\n",
      "INFO:utils.scraper:Scraping linked page: https://www.satim.dz/index.php/fr/services-cib/operations-de-retrait\n",
      "INFO:utils.scraper:Scraping linked page: https://www.satim.dz/index.php/fr/services-cib/operations-de-paiement\n",
      "INFO:utils.scraper:Scraping linked page: https://www.satim.dz/index.php/fr/services-cib/paiement-en-ligne\n",
      "INFO:utils.scraper:Scraping linked page: https://www.satim.dz/index.php/fr/contact\n",
      "INFO:utils.scraper:Scraping linked page: https://www.satim.dz/index.php/fr/services-cib/paiement-en-ligne\n",
      "INFO:utils.scraper:Scraping linked page: https://www.satim.dz/index.php/fr/services-cib/operations-de-paiement\n",
      "INFO:utils.scraper:Scraping linked page: https://www.satim.dz/index.php/fr/services-cib/operations-de-retrait\n",
      "INFO:utils.scraper:Scraping linked page: https://www.satim.dz/index.php/fr/satim/nos-services/services-nationaux\n",
      "INFO:utils.scraper:Scraping linked page: https://www.satim.dz/index.php/fr/services-cib/carte-cib\n",
      "INFO:utils.scraper:Scraping linked page: https://www.satim.dz/index.php/fr/contact\n",
      "INFO:utils.scraper:Scraping linked page: https://www.satim.dz/index.php/fr/faq\n",
      "INFO:utils.scraper:Scraping linked page: https://www.satim.dz/index.php/fr/services-cib/operations-de-retrait\n",
      "INFO:utils.scraper:Scraping https://www.satim.dz/index.php/fr/contact (Contact)\n",
      "INFO:utils.scraper:Scraping linked page: https://www.satim.dz/index.php/fr/contact\n",
      "INFO:utils.scraper:Scraping linked page: https://www.satim.dz/index.php/ar/contact-2\n",
      "INFO:utils.scraper:Scraping linked page: https://www.satim.dz/index.php/fr/faq\n",
      "INFO:utils.scraper:Scraping linked page: https://www.satim.dz/index.php/fr/contact\n",
      "INFO:utils.scraper:Scraping linked page: https://www.satim.dz/index.php/fr/satim/nos-services/services-nationaux\n",
      "INFO:utils.scraper:Scraping linked page: https://www.satim.dz/index.php/fr/satim/nos-services/services-internationaux\n",
      "INFO:utils.scraper:Scraping linked page: https://www.satim.dz/index.php/fr/contact\n",
      "INFO:utils.scraper:Scraping linked page: https://www.satim.dz/index.php/fr/services-cib/carte-cib\n",
      "INFO:utils.scraper:Scraping linked page: https://www.satim.dz/index.php/fr/services-cib/operations-de-retrait\n",
      "INFO:utils.scraper:Scraping linked page: https://www.satim.dz/index.php/fr/services-cib/operations-de-paiement\n",
      "INFO:utils.scraper:Scraping linked page: https://www.satim.dz/index.php/fr/services-cib/paiement-en-ligne\n",
      "INFO:utils.scraper:Scraping linked page: https://www.satim.dz/index.php/fr/contact\n",
      "INFO:utils.scraper:Scraping linked page: https://www.satim.dz/index.php/fr/satim/nos-services/services-nationaux\n",
      "INFO:utils.scraper:Scraping linked page: https://www.satim.dz/index.php/fr/services-cib/carte-cib\n",
      "INFO:utils.scraper:Scraping linked page: https://www.satim.dz/index.php/fr/contact\n",
      "INFO:utils.scraper:Scraping linked page: https://www.satim.dz/index.php/fr/faq\n",
      "INFO:utils.scraper:Scraping linked page: https://www.satim.dz/index.php/fr/services-cib/operations-de-retrait\n",
      "INFO:utils.scraper:Scraping https://www.satim.dz/index.php/fr/services (Services)\n",
      "ERROR:utils.scraper:Error scraping https://www.satim.dz/index.php/fr/services: 404 Client Error: Not Found for url: https://www.satim.dz/index.php/fr/services\n",
      "INFO:utils.scraper:Scraping https://www.satim.dz/index.php/fr/produits (Produits)\n",
      "ERROR:utils.scraper:Error scraping https://www.satim.dz/index.php/fr/produits: 404 Client Error: Not Found for url: https://www.satim.dz/index.php/fr/produits\n",
      "INFO:utils.scraper:Scraping https://www.satim.dz/index.php/fr/aide (Aide)\n",
      "ERROR:utils.scraper:Error scraping https://www.satim.dz/index.php/fr/aide: 404 Client Error: Not Found for url: https://www.satim.dz/index.php/fr/aide\n",
      "INFO:utils.scraper:Scraping https://www.satim.dz/index.php/fr/faq (FAQ)\n",
      "INFO:utils.scraper:Scraping linked page: https://www.satim.dz/index.php/fr/faq\n",
      "INFO:utils.scraper:Scraping linked page: https://www.satim.dz/index.php/ar/faqar\n",
      "INFO:utils.scraper:Scraping linked page: https://www.satim.dz/index.php/fr/faq\n",
      "INFO:utils.scraper:Scraping linked page: https://www.satim.dz/index.php/fr/faq\n",
      "INFO:utils.scraper:Scraping linked page: https://www.satim.dz/index.php/fr/satim/nos-services/services-nationaux\n",
      "INFO:utils.scraper:Scraping linked page: https://www.satim.dz/index.php/fr/satim/nos-services/services-internationaux\n",
      "INFO:utils.scraper:Scraping linked page: https://www.satim.dz/index.php/fr/faq\n",
      "INFO:utils.scraper:Scraping linked page: https://www.satim.dz/index.php/fr/services-cib/carte-cib\n",
      "INFO:utils.scraper:Scraping linked page: https://www.satim.dz/index.php/fr/services-cib/operations-de-retrait\n",
      "INFO:utils.scraper:Scraping linked page: https://www.satim.dz/index.php/fr/services-cib/operations-de-paiement\n",
      "INFO:utils.scraper:Scraping linked page: https://www.satim.dz/index.php/fr/services-cib/paiement-en-ligne\n",
      "INFO:utils.scraper:Scraping linked page: https://www.satim.dz/index.php/fr/contact\n",
      "INFO:utils.scraper:Scraping linked page: https://www.satim.dz/index.php/fr/faq\n",
      "INFO:utils.scraper:Scraping linked page: https://www.satim.dz/index.php/fr/services-cib/carte-cib\n",
      "INFO:utils.scraper:Scraping linked page: https://www.satim.dz/index.php/fr/services-cib/operations-de-retrait\n",
      "INFO:utils.scraper:Scraping linked page: https://www.satim.dz/index.php/fr/satim/nos-services/services-nationaux\n",
      "INFO:utils.scraper:Scraping linked page: https://www.satim.dz/index.php/fr/services-cib/carte-cib\n",
      "INFO:utils.scraper:Scraping linked page: https://www.satim.dz/index.php/fr/contact\n",
      "INFO:utils.scraper:Scraping linked page: https://www.satim.dz/index.php/fr/faq\n",
      "INFO:utils.scraper:Scraping linked page: https://www.satim.dz/index.php/fr/services-cib/operations-de-retrait\n",
      "INFO:utils.scraper:Scraping https://www.satim.dz/index.php/fr/support (Support)\n",
      "ERROR:utils.scraper:Error scraping https://www.satim.dz/index.php/fr/support: 404 Client Error: Not Found for url: https://www.satim.dz/index.php/fr/support\n",
      "INFO:utils.scraper:Total FAQs scraped: 4\n"
     ]
    }
   ],
   "source": [
    "\n",
    "if soup:\n",
    "    print(\"✓ Successfully scraped main page\")\n",
    "    print(f\"Page title: {soup.title.string if soup.title else 'No title found'}\")\n",
    "    test_faqs = scraper.extract_faq_from_page(soup, main_page_url, \"Test\")\n",
    "    print(f\"Found {len(test_faqs)} potential FAQ items on main page\")\n",
    "    if test_faqs:\n",
    "        print(\"\\nFirst FAQ found:\")\n",
    "        print(f\"Q: {test_faqs[0].question}\")\n",
    "        print(f\"A: {test_faqs[0].answer[:200]}...\")\n",
    "else:\n",
    "    print(\"✗ Failed to scrape main page\")\n",
    "\n",
    "# Full scraping\n",
    "print(\"Starting full website scraping...\")\n",
    "start_time = datetime.now()\n",
    "all_faqs = scraper.scrape_all()\n",
    "end_time = datetime.now()\n"
   ]
  },
  {
   "cell_type": "code",
   "execution_count": 9,
   "id": "94ec2f0d",
   "metadata": {},
   "outputs": [
    {
     "name": "stdout",
     "output_type": "stream",
     "text": [
      "\n",
      "✓ Scraping completed in 246.62 seconds\n",
      "Total FAQs collected: 4\n",
      "Dataset Overview:\n",
      "Total FAQs: 4\n",
      "Unique categories: 4\n",
      "Categories: ['Contact', 'Informations', 'Paiements', 'Support']\n",
      "                                            question  \\\n",
      "0  Comment puis-je contacter le service client SA...   \n",
      "1      Quels sont les horaires d'ouverture de SATIM?   \n",
      "2   Comment puis-je effectuer un paiement via SATIM?   \n",
      "3            Que faire en cas de problème technique?   \n",
      "\n",
      "                                              answer      category  \\\n",
      "0  Vous pouvez contacter le service client SATIM ...       Contact   \n",
      "1  SATIM est généralement ouvert du dimanche au j...  Informations   \n",
      "2  SATIM propose plusieurs méthodes de paiement é...     Paiements   \n",
      "3  En cas de problème technique, contactez immédi...       Support   \n",
      "\n",
      "                     source_url  question_length  answer_length  \n",
      "0  https://www.satim.dz/default               50            149  \n",
      "1  https://www.satim.dz/default               45            115  \n",
      "2  https://www.satim.dz/default               48            135  \n",
      "3  https://www.satim.dz/default               39            132  \n"
     ]
    }
   ],
   "source": [
    "\n",
    "scraping_duration = (end_time - start_time).total_seconds()\n",
    "print(f\"\\n✓ Scraping completed in {scraping_duration:.2f} seconds\")\n",
    "print(f\"Total FAQs collected: {len(all_faqs)}\")\n",
    "\n",
    "# Analyze\n",
    "faq_data = [{\n",
    "    'question': faq.question,\n",
    "    'answer': faq.answer,\n",
    "    'category': faq.category,\n",
    "    'source_url': faq.source_url,\n",
    "    'question_length': len(faq.question),\n",
    "    'answer_length': len(faq.answer)\n",
    "} for faq in all_faqs]\n",
    "\n",
    "df = pd.DataFrame(faq_data)\n",
    "\n",
    "print(\"Dataset Overview:\")\n",
    "print(f\"Total FAQs: {len(df)}\")\n",
    "print(f\"Unique categories: {df['category'].nunique()}\")\n",
    "print(f\"Categories: {list(df['category'].unique())}\")\n",
    "print(df.head())\n"
   ]
  },
  {
   "cell_type": "code",
   "execution_count": 10,
   "id": "e7939a62",
   "metadata": {},
   "outputs": [
    {
     "data": {
      "text/plain": [
       "Text(0.5, 1.0, 'FAQ Distribution by Category')"
      ]
     },
     "execution_count": 10,
     "metadata": {},
     "output_type": "execute_result"
    },
    {
     "data": {
      "image/png": "[encoded data removed]",
      "text/plain": [
       "<Figure size 1200x600 with 1 Axes>"
      ]
     },
     "metadata": {},
     "output_type": "display_data"
    }
   ],
   "source": [
    "\n",
    "# Plots\n",
    "plt.figure(figsize=(12, 6))\n",
    "\n",
    "plt.subplot(1, 2, 1)\n",
    "category_counts = df['category'].value_counts()\n",
    "plt.pie(category_counts.values, labels=category_counts.index, autopct='%1.1f%%')\n",
    "plt.title('FAQ Distribution by Category')\n"
   ]
  },
  {
   "cell_type": "code",
   "execution_count": 11,
   "id": "2cde303a",
   "metadata": {},
   "outputs": [
    {
     "data": {
      "image/png": "[encoded data removed]",
      "text/plain": [
       "<Figure size 640x480 with 1 Axes>"
      ]
     },
     "metadata": {},
     "output_type": "display_data"
    }
   ],
   "source": [
    "\n",
    "plt.subplot(1, 2, 2)\n",
    "plt.hist(df['answer_length'], bins=20, alpha=0.7)\n",
    "plt.xlabel('Answer Length (characters)')\n",
    "plt.ylabel('Frequency')\n",
    "plt.title('Distribution of Answer Lengths')\n",
    "\n",
    "plt.tight_layout()\n",
    "plt.show()\n"
   ]
  },
  {
   "cell_type": "code",
   "execution_count": 12,
   "id": "e09f7524",
   "metadata": {},
   "outputs": [
    {
     "name": "stdout",
     "output_type": "stream",
     "text": [
      "\n",
      "Length Statistics:\n",
      "Average question length: 45.5 characters\n",
      "Average answer length: 132.8 characters\n",
      "Shortest answer: 115 characters\n",
      "Longest answer: 149 characters\n"
     ]
    }
   ],
   "source": [
    "\n",
    "print(\"\\nLength Statistics:\")\n",
    "print(f\"Average question length: {df['question_length'].mean():.1f} characters\")\n",
    "print(f\"Average answer length: {df['answer_length'].mean():.1f} characters\")\n",
    "print(f\"Shortest answer: {df['answer_length'].min()} characters\")\n",
    "print(f\"Longest answer: {df['answer_length'].max()} characters\")\n"
   ]
  },
  {
   "cell_type": "code",
   "execution_count": 13,
   "id": "d69ba7cd",
   "metadata": {},
   "outputs": [
    {
     "name": "stdout",
     "output_type": "stream",
     "text": [
      "Duplicate questions found: 0\n",
      "\n",
      "FAQs with very short answers (<50 chars): 0\n",
      "\n",
      "FAQs with very long answers (>1000 chars): 0\n"
     ]
    }
   ],
   "source": [
    "\n",
    "# Quality check\n",
    "duplicate_questions = df[df.duplicated(subset=['question'], keep=False)]\n",
    "print(f\"Duplicate questions found: {len(duplicate_questions)}\")\n",
    "if not duplicate_questions.empty:\n",
    "    print(duplicate_questions[['question', 'category']].head(10))\n",
    "\n",
    "short_answers = df[df['answer_length'] < 50]\n",
    "print(f\"\\nFAQs with very short answers (<50 chars): {len(short_answers)}\")\n",
    "if not short_answers.empty:\n",
    "    for idx, row in short_answers.head().iterrows():\n",
    "        print(f\"Q: {row['question'][:100]}...\")\n",
    "        print(f\"A: {row['answer']}\")\n",
    "        print(\"---\")\n",
    "\n",
    "long_answers = df[df['answer_length'] > 1000]\n",
    "print(f\"\\nFAQs with very long answers (>1000 chars): {len(long_answers)}\")\n"
   ]
  },
  {
   "cell_type": "code",
   "execution_count": 14,
   "id": "3269439e",
   "metadata": {},
   "outputs": [
    {
     "name": "stdout",
     "output_type": "stream",
     "text": [
      "Original dataset: 4 FAQs\n",
      "After cleaning: 4 FAQs\n",
      "Removed: 0 FAQs (0.0%)\n"
     ]
    }
   ],
   "source": [
    "\n",
    "# Cleaning\n",
    "df_clean = df.drop_duplicates(subset=['question']).copy()\n",
    "df_clean = df_clean[df_clean['answer_length'] >= 30]\n",
    "df_clean = df_clean[df_clean['answer_length'] <= 2000]\n",
    "df_clean = df_clean[df_clean['question_length'] >= 10]\n",
    "\n",
    "print(f\"Original dataset: {len(df)} FAQs\")\n",
    "print(f\"After cleaning: {len(df_clean)} FAQs\")\n",
    "print(f\"Removed: {len(df) - len(df_clean)} FAQs ({((len(df) - len(df_clean)) / len(df) * 100):.1f}%)\")\n"
   ]
  },
  {
   "cell_type": "code",
   "execution_count": 15,
   "id": "461f9f0b",
   "metadata": {},
   "outputs": [],
   "source": [
    "\n",
    "cleaned_faqs = [\n",
    "    FAQItem(\n",
    "        question=row['question'],\n",
    "        answer=row['answer'],\n",
    "        category=row['category'],\n",
    "        source_url=row['source_url']\n",
    "    )\n",
    "    for _, row in df_clean.iterrows()\n",
    "]\n",
    "scraper.scraped_faqs = cleaned_faqs\n"
   ]
  },
  {
   "cell_type": "code",
   "execution_count": 16,
   "id": "d069ec1e",
   "metadata": {},
   "outputs": [
    {
     "name": "stdout",
     "output_type": "stream",
     "text": [
      "\n",
      "==================================================\n",
      "CATEGORY: Contact\n",
      "==================================================\n",
      "\n",
      "--- FAQ 1 ---\n",
      "Question: Comment puis-je contacter le service client SATIM?\n",
      "Answer: Vous pouvez contacter le service client SATIM par téléphone, email ou en visitant nos bureaux. Consultez notre page contact pour plus d'informations.\n",
      "Source: https://www.satim.dz/default\n",
      "\n",
      "==================================================\n",
      "CATEGORY: Informations\n",
      "==================================================\n",
      "\n",
      "--- FAQ 1 ---\n",
      "Question: Quels sont les horaires d'ouverture de SATIM?\n",
      "Answer: SATIM est généralement ouvert du dimanche au jeudi de 8h00 à 17h00. Les horaires peuvent varier selon les services.\n",
      "Source: https://www.satim.dz/default\n",
      "\n",
      "==================================================\n",
      "CATEGORY: Paiements\n",
      "==================================================\n",
      "\n",
      "--- FAQ 1 ---\n",
      "Question: Comment puis-je effectuer un paiement via SATIM?\n",
      "Answer: SATIM propose plusieurs méthodes de paiement électronique. Contactez-nous pour connaître les options disponibles selon votre situation.\n",
      "Source: https://www.satim.dz/default\n",
      "\n",
      "==================================================\n",
      "CATEGORY: Support\n",
      "==================================================\n",
      "\n",
      "--- FAQ 1 ---\n",
      "Question: Que faire en cas de problème technique?\n",
      "Answer: En cas de problème technique, contactez immédiatement notre support technique. Nous vous aiderons à résoudre le problème rapidement.\n",
      "Source: https://www.satim.dz/default\n"
     ]
    }
   ],
   "source": [
    "\n",
    "# Show examples\n",
    "for category in df_clean['category'].unique()[:5]:\n",
    "    print(f\"\\n{'='*50}\")\n",
    "    print(f\"CATEGORY: {category}\")\n",
    "    print(f\"{'='*50}\")\n",
    "    category_faqs = df_clean[df_clean['category'] == category]\n",
    "    for idx, (_, row) in enumerate(category_faqs.head(3).iterrows()):\n",
    "        print(f\"\\n--- FAQ {idx + 1} ---\")\n",
    "        print(f\"Question: {row['question']}\")\n",
    "        print(f\"Answer: {row['answer'][:300]}{'...' if len(row['answer']) > 300 else ''}\")\n",
    "        print(f\"Source: {row['source_url']}\")\n"
   ]
  },
  {
   "cell_type": "code",
   "execution_count": 17,
   "id": "112b15f3",
   "metadata": {},
   "outputs": [
    {
     "name": "stderr",
     "output_type": "stream",
     "text": [
      "INFO:utils.scraper:FAQs saved to ../data/raw/satim_faqs_scraped.json\n"
     ]
    },
    {
     "name": "stdout",
     "output_type": "stream",
     "text": [
      "✓ Data saved to:\n",
      "  - JSON: ../data/raw/satim_faqs_scraped.json\n",
      "  - CSV: ../data/processed/satim_faqs_cleaned.csv\n"
     ]
    }
   ],
   "source": [
    "\n",
    "# Save\n",
    "json_filename = '../data/raw/satim_faqs_scraped.json'\n",
    "scraper.save_to_json(json_filename)\n",
    "\n",
    "csv_filename = '../data/processed/satim_faqs_cleaned.csv'\n",
    "df_clean.to_csv(csv_filename, index=False, encoding='utf-8')\n",
    "\n",
    "print(f\"✓ Data saved to:\\n  - JSON: {json_filename}\\n  - CSV: {csv_filename}\")\n",
    "\n",
    "summary = {\n",
    "    'scraping_date': datetime.now().isoformat(),\n",
    "    'total_faqs_scraped': len(all_faqs),\n",
    "    'total_faqs_after_cleaning': len(df_clean),\n",
    "    'categories': list(df_clean['category'].unique()),\n",
    "    'category_counts': df_clean['category'].value_counts().to_dict(),\n",
    "    'avg_question_length': float(df_clean['question_length'].mean()),\n",
    "    'avg_answer_length': float(df_clean['answer_length'].mean()),\n",
    "    'quality_metrics': {\n",
    "        'duplicates_removed': len(df) - len(df.drop_duplicates(subset=['question'])),\n",
    "        'short_answers_removed': len(df[df['answer_length'] < 30]),\n",
    "        'long_answers_removed': len(df[df['answer_length'] > 2000])\n",
    "    }\n",
    "}"
   ]
  },
  {
   "cell_type": "code",
   "execution_count": 22,
   "id": "fb7aab4e",
   "metadata": {},
   "outputs": [
    {
     "name": "stdout",
     "output_type": "stream",
     "text": [
      "✓ Scraping summary saved\n"
     ]
    },
    {
     "ename": "ImportError",
     "evalue": "attempted relative import beyond top-level package",
     "output_type": "error",
     "traceback": [
      "\u001b[31m---------------------------------------------------------------------------\u001b[39m",
      "\u001b[31mImportError\u001b[39m                               Traceback (most recent call last)",
      "\u001b[36mCell\u001b[39m\u001b[36m \u001b[39m\u001b[32mIn[22]\u001b[39m\u001b[32m, line 9\u001b[39m\n\u001b[32m      7\u001b[39m db = SessionLocal()\n\u001b[32m      8\u001b[39m \u001b[38;5;28;01mtry\u001b[39;00m:\n\u001b[32m----> \u001b[39m\u001b[32m9\u001b[39m     saved_count = \u001b[43mscraper\u001b[49m\u001b[43m.\u001b[49m\u001b[43msave_to_database\u001b[49m\u001b[43m(\u001b[49m\u001b[43mdb\u001b[49m\u001b[43m)\u001b[49m\n\u001b[32m     10\u001b[39m     \u001b[38;5;28mprint\u001b[39m(\u001b[33mf\u001b[39m\u001b[33m\"\u001b[39m\u001b[33m✓ Successfully saved \u001b[39m\u001b[38;5;132;01m{\u001b[39;00msaved_count\u001b[38;5;132;01m}\u001b[39;00m\u001b[33m new FAQs to database\u001b[39m\u001b[33m\"\u001b[39m)\n\u001b[32m     11\u001b[39m     total_faqs_in_db = db.query(FAQ).count()\n",
      "\u001b[36mFile \u001b[39m\u001b[32mc:\\Users\\Morsi Store DZ\\SATIM_CallCenter_Automation\\src\\utils\\scraper.py:312\u001b[39m, in \u001b[36mSATIMScraper.save_to_database\u001b[39m\u001b[34m(self, db)\u001b[39m\n\u001b[32m    310\u001b[39m \u001b[38;5;28;01mdef\u001b[39;00m\u001b[38;5;250m \u001b[39m\u001b[34msave_to_database\u001b[39m(\u001b[38;5;28mself\u001b[39m, db: Session):\n\u001b[32m    311\u001b[39m \u001b[38;5;250m    \u001b[39m\u001b[33;03m\"\"\"Save scraped FAQs to database\"\"\"\u001b[39;00m\n\u001b[32m--> \u001b[39m\u001b[32m312\u001b[39m     \u001b[38;5;28;01mfrom\u001b[39;00m\u001b[38;5;250m \u001b[39m\u001b[34;01m.\u001b[39;00m\u001b[34;01m.\u001b[39;00m\u001b[34;01mmodels\u001b[39;00m\u001b[38;5;250m \u001b[39m\u001b[38;5;28;01mimport\u001b[39;00m FAQ\n\u001b[32m    314\u001b[39m     saved_count = \u001b[32m0\u001b[39m\n\u001b[32m    316\u001b[39m     \u001b[38;5;28;01mfor\u001b[39;00m faq_item \u001b[38;5;129;01min\u001b[39;00m \u001b[38;5;28mself\u001b[39m.scraped_faqs:\n\u001b[32m    317\u001b[39m         \u001b[38;5;66;03m# Check if FAQ already exists\u001b[39;00m\n",
      "\u001b[31mImportError\u001b[39m: attempted relative import beyond top-level package"
     ]
    }
   ],
   "source": [
    "\n",
    "\n",
    "with open('../data/processed/scraping_summary.json', 'w', encoding='utf-8') as f:\n",
    "    json.dump(summary, f, indent=2, ensure_ascii=False)\n",
    "\n",
    "print(\"✓ Scraping summary saved\")\n",
    "\n",
    "# Save to DB\n",
    "db = SessionLocal()\n",
    "try:\n",
    "    saved_count = scraper.save_to_database(db)\n",
    "    print(f\"✓ Successfully saved {saved_count} new FAQs to database\")\n",
    "    total_faqs_in_db = db.query(FAQ).count()\n",
    "    print(f\"Total FAQs now in database: {total_faqs_in_db}\")\n",
    "\n",
    "    category_stats = db.query(\n",
    "        FAQ.category,\n",
    "        func.count(FAQ.id).label('count')\n",
    "    ).group_by(FAQ.category).all()\n",
    "\n",
    "    print(\"\\nCategory distribution in database:\")\n",
    "    for category, count in category_stats:\n",
    "        print(f\"  {category}: {count} FAQs\")\n",
    "finally:\n",
    "    db.close()\n"
   ]
  },
  {
   "cell_type": "code",
   "execution_count": 20,
   "id": "63a99803",
   "metadata": {},
   "outputs": [
    {
     "name": "stdout",
     "output_type": "stream",
     "text": [
      "\n",
      "============================================================\n",
      "SCRAPING COMPLETED SUCCESSFULLY!\n",
      "============================================================\n",
      "📊 Total FAQs collected: 4\n",
      "🧹 FAQs after cleaning: 4\n"
     ]
    },
    {
     "ename": "NameError",
     "evalue": "name 'saved_count' is not defined",
     "output_type": "error",
     "traceback": [
      "\u001b[31m---------------------------------------------------------------------------\u001b[39m",
      "\u001b[31mNameError\u001b[39m                                 Traceback (most recent call last)",
      "\u001b[36mCell\u001b[39m\u001b[36m \u001b[39m\u001b[32mIn[20]\u001b[39m\u001b[32m, line 7\u001b[39m\n\u001b[32m      5\u001b[39m \u001b[38;5;28mprint\u001b[39m(\u001b[33mf\u001b[39m\u001b[33m\"\u001b[39m\u001b[33m📊 Total FAQs collected: \u001b[39m\u001b[38;5;132;01m{\u001b[39;00m\u001b[38;5;28mlen\u001b[39m(all_faqs)\u001b[38;5;132;01m}\u001b[39;00m\u001b[33m\"\u001b[39m)\n\u001b[32m      6\u001b[39m \u001b[38;5;28mprint\u001b[39m(\u001b[33mf\u001b[39m\u001b[33m\"\u001b[39m\u001b[33m🧹 FAQs after cleaning: \u001b[39m\u001b[38;5;132;01m{\u001b[39;00m\u001b[38;5;28mlen\u001b[39m(df_clean)\u001b[38;5;132;01m}\u001b[39;00m\u001b[33m\"\u001b[39m)\n\u001b[32m----> \u001b[39m\u001b[32m7\u001b[39m \u001b[38;5;28mprint\u001b[39m(\u001b[33mf\u001b[39m\u001b[33m\"\u001b[39m\u001b[33m💾 FAQs saved to database: \u001b[39m\u001b[38;5;132;01m{\u001b[39;00m\u001b[43msaved_count\u001b[49m\u001b[38;5;132;01m}\u001b[39;00m\u001b[33m\"\u001b[39m)\n\u001b[32m      8\u001b[39m \u001b[38;5;28mprint\u001b[39m(\u001b[33mf\u001b[39m\u001b[33m\"\u001b[39m\u001b[33m📁 Files created:\u001b[39m\u001b[33m\"\u001b[39m)\n\u001b[32m      9\u001b[39m \u001b[38;5;28mprint\u001b[39m(\u001b[33mf\u001b[39m\u001b[33m\"\u001b[39m\u001b[33m   - \u001b[39m\u001b[38;5;132;01m{\u001b[39;00mjson_filename\u001b[38;5;132;01m}\u001b[39;00m\u001b[33m\"\u001b[39m)\n",
      "\u001b[31mNameError\u001b[39m: name 'saved_count' is not defined"
     ]
    }
   ],
   "source": [
    "\n",
    "# Summary\n",
    "print(\"\\n\" + \"=\" * 60)\n",
    "print(\"SCRAPING COMPLETED SUCCESSFULLY!\")\n",
    "print(\"=\" * 60)\n",
    "print(f\"📊 Total FAQs collected: {len(all_faqs)}\")\n",
    "print(f\"🧹 FAQs after cleaning: {len(df_clean)}\")\n",
    "print(f\"💾 FAQs saved to database: {saved_count}\")\n",
    "print(f\"📁 Files created:\")\n",
    "print(f\"   - {json_filename}\")\n",
    "print(f\"   - {csv_filename}\")\n",
    "print(\"   - ../data/processed/scraping_summary.json\")\n",
    "print(\"\\n🚀 Ready for NLP model training!\")\n"
   ]
  },
  {
   "cell_type": "code",
   "execution_count": null,
   "id": "45cda960",
   "metadata": {},
   "outputs": [
    {
     "name": "stdout",
     "output_type": "stream",
     "text": [
      "c:\\Users\\Morsi Store DZ\\AppData\\Local\\Programs\\Python\\Python312\\python.exe\n"
     ]
    }
   ],
   "source": [
    "import sys\n",
    "print(sys.executable)\n"
   ]
  },
  {
   "cell_type": "code",
   "execution_count": 18,
   "id": "39c9a1fc",
   "metadata": {},
   "outputs": [
    {
     "name": "stdout",
     "output_type": "stream",
     "text": [
      "c:\\Users\\Morsi Store DZ\\AppData\\Local\\Programs\\Python\\Python312\\python.exe\n"
     ]
    }
   ],
   "source": [
    "import sys\n",
    "print(sys.executable)\n",
    "\n"
   ]
  },
  {
   "cell_type": "code",
   "execution_count": null,
   "id": "cde41df4",
   "metadata": {},
   "outputs": [],
   "source": []
  }
 ],
 "metadata": {
  "kernelspec": {
   "display_name": "Python (.venv - SATIM)",
   "language": "python",
   "name": "satim_env"
  },
  "language_info": {
   "codemirror_mode": {
    "name": "ipython",
    "version": 3
   },
   "file_extension": ".py",
   "mimetype": "text/x-python",
   "name": "python",
   "nbconvert_exporter": "python",
   "pygments_lexer": "ipython3",
   "version": "3.12.3"
  }
 },
 "nbformat": 4,
 "nbformat_minor": 5
}
